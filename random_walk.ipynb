{
 "cells": [
  {
   "cell_type": "code",
   "execution_count": 1,
   "metadata": {},
   "outputs": [],
   "source": [
    "import utils"
   ]
  },
  {
   "cell_type": "code",
   "execution_count": 2,
   "metadata": {},
   "outputs": [],
   "source": [
    "import pandas as pd"
   ]
  },
  {
   "cell_type": "code",
   "execution_count": 11,
   "metadata": {},
   "outputs": [],
   "source": [
    "t_c = utils.TwitterClient()"
   ]
  },
  {
   "cell_type": "code",
   "execution_count": 15,
   "metadata": {},
   "outputs": [],
   "source": [
    "tweets = t_c.twitter.search(q='lang:ca OR lang:es', geocode=utils.SPAIN_GEOCODE, result_type='recent')"
   ]
  },
  {
   "cell_type": "code",
   "execution_count": 17,
   "metadata": {},
   "outputs": [
    {
     "data": {
      "text/plain": [
       "dict_keys(['statuses', 'search_metadata'])"
      ]
     },
     "execution_count": 17,
     "metadata": {},
     "output_type": "execute_result"
    }
   ],
   "source": [
    "tweets.keys()"
   ]
  },
  {
   "cell_type": "code",
   "execution_count": 4,
   "metadata": {},
   "outputs": [],
   "source": [
    "tweets_call = t_c.try_call(lambda: t_c.twitter.search(q='lang:ca OR lang:es', geocode=utils.SPAIN_GEOCODE, result_type='recent'))\n",
    "if 'statuses' in tweets.keys():\n",
    "    tweets = tweets_call['statuses']\n",
    "    for user in map(lambda t: t['user']['screen_name'], tweets):\n",
    "        followers_call = t_c.try_call(lambda x: t_c.twitter.get_followers_ids(screen_name=user, count=5000))\n",
    "        following_call = t_c.try_call(lambda x: t_c.twitter.get_friends_ids(screen_name=user, count=5000))"
   ]
  },
  {
   "cell_type": "code",
   "execution_count": 20,
   "metadata": {},
   "outputs": [],
   "source": [
    "#t_c.twitter.get_friends_ids(screen_name='Gallade_1399', count=5000)"
   ]
  },
  {
   "cell_type": "code",
   "execution_count": 21,
   "metadata": {},
   "outputs": [],
   "source": [
    "#t_c.try_call(lambda x: t_c.twitter.get_followers_ids(screen_name='Gallade_1399', count=5000)"
   ]
  },
  {
   "cell_type": "code",
   "execution_count": 5,
   "metadata": {},
   "outputs": [
    {
     "data": {
      "text/plain": [
       "['Gallade_1399',\n",
       " 'JJ62708521',\n",
       " 'AngelM3150',\n",
       " 'rubioleandro',\n",
       " 'RubenHerreroESP',\n",
       " 'PedroLuisGarri3',\n",
       " 'commercetrain',\n",
       " '10enero1976',\n",
       " 'JRDiezdeR',\n",
       " '_tlyis',\n",
       " 'BlancaUsoz',\n",
       " 'Von_Zipper4',\n",
       " 'MultiGaceta',\n",
       " 'InfoApuntes',\n",
       " 'JBCP2']"
      ]
     },
     "execution_count": 5,
     "metadata": {},
     "output_type": "execute_result"
    }
   ],
   "source": [
    "list(map(lambda t: t['user']['screen_name'], tweets))"
   ]
  },
  {
   "cell_type": "code",
   "execution_count": 43,
   "metadata": {},
   "outputs": [
    {
     "data": {
      "text/plain": [
       "20"
      ]
     },
     "execution_count": 43,
     "metadata": {},
     "output_type": "execute_result"
    }
   ],
   "source": [
    "call = twitter_client.twitter.get_friends_list(screen_name='TuitSugerido', skip_status=True, count=20)\n",
    "len(call['users'])"
   ]
  },
  {
   "cell_type": "code",
   "execution_count": 46,
   "metadata": {},
   "outputs": [],
   "source": [
    "call = twitter_client.twitter.get_friends_list(screen_name='TuitSugerido', skip_status=True, count=200)"
   ]
  },
  {
   "cell_type": "code",
   "execution_count": 41,
   "metadata": {},
   "outputs": [
    {
     "data": {
      "text/plain": [
       "dict_keys(['users', 'next_cursor', 'next_cursor_str', 'previous_cursor', 'previous_cursor_str', 'total_count'])"
      ]
     },
     "execution_count": 41,
     "metadata": {},
     "output_type": "execute_result"
    }
   ],
   "source": [
    "call.keys()"
   ]
  },
  {
   "cell_type": "code",
   "execution_count": 47,
   "metadata": {},
   "outputs": [
    {
     "data": {
      "text/plain": [
       "1643065062197627897"
      ]
     },
     "execution_count": 47,
     "metadata": {},
     "output_type": "execute_result"
    }
   ],
   "source": [
    "call['next_cursor']"
   ]
  },
  {
   "cell_type": "code",
   "execution_count": 49,
   "metadata": {},
   "outputs": [],
   "source": [
    "call['total_count']"
   ]
  },
  {
   "cell_type": "code",
   "execution_count": null,
   "metadata": {},
   "outputs": [],
   "source": []
  }
 ],
 "metadata": {
  "kernelspec": {
   "display_name": "Python 3",
   "language": "python",
   "name": "python3"
  },
  "language_info": {
   "codemirror_mode": {
    "name": "ipython",
    "version": 3
   },
   "file_extension": ".py",
   "mimetype": "text/x-python",
   "name": "python",
   "nbconvert_exporter": "python",
   "pygments_lexer": "ipython3",
   "version": "3.7.4"
  }
 },
 "nbformat": 4,
 "nbformat_minor": 2
}
