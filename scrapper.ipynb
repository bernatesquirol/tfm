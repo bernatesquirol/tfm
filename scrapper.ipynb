{
 "cells": [
  {
   "cell_type": "code",
   "execution_count": 3,
   "metadata": {},
   "outputs": [],
   "source": [
    "import ipywidgets as widgets\n",
    "from ipywidgets import interact, interact_manual"
   ]
  },
  {
   "cell_type": "code",
   "execution_count": 4,
   "metadata": {},
   "outputs": [],
   "source": [
    "import utils\n",
    "import json\n",
    "import pandas as pd"
   ]
  },
  {
   "cell_type": "code",
   "execution_count": 5,
   "metadata": {},
   "outputs": [
    {
     "data": {
      "text/plain": [
       "<module 'utils' from 'C:\\\\Users\\\\berna\\\\ds\\\\tfm\\\\utils.py'>"
      ]
     },
     "execution_count": 5,
     "metadata": {},
     "output_type": "execute_result"
    }
   ],
   "source": [
    "import importlib\n",
    "importlib.reload(utils)"
   ]
  },
  {
   "cell_type": "code",
   "execution_count": 4,
   "metadata": {},
   "outputs": [],
   "source": [
    "import matplotlib as plt"
   ]
  },
  {
   "cell_type": "code",
   "execution_count": 6,
   "metadata": {},
   "outputs": [],
   "source": [
    "twitter_client = utils.TwitterClient()\n",
    "#twitter.get_application_rate_limit_status()\n",
    "\n"
   ]
  },
  {
   "cell_type": "code",
   "execution_count": 7,
   "metadata": {},
   "outputs": [],
   "source": [
    "congress_members = twitter_client.twitter.get_list_members(list_id=utils.LIST_ALL_CONGRESS,count=5000)"
   ]
  },
  {
   "cell_type": "code",
   "execution_count": 13,
   "metadata": {},
   "outputs": [
    {
     "data": {
      "text/plain": [
       "266"
      ]
     },
     "execution_count": 13,
     "metadata": {},
     "output_type": "execute_result"
    }
   ],
   "source": [
    "list(map(lambda x: x['screen_name'],congress_members['users'])).index('nvillagrasa')"
   ]
  },
  {
   "cell_type": "code",
   "execution_count": 16,
   "metadata": {
    "scrolled": true
   },
   "outputs": [
    {
     "name": "stdout",
     "output_type": "stream",
     "text": [
      "Extracting timeline of: @nvillagrasa\n",
      "Total tweets: 1914\n",
      "Extracting timeline of: @pilarmarcosd\n",
      "Total tweets: 3210\n",
      "Extracting timeline of: @sergiosayas\n",
      "Total tweets: 3231\n",
      "Extracting timeline of: @santicl\n",
      "Total tweets: 2967\n",
      "Extracting timeline of: @VicenteBetoret\n",
      "Total tweets: 3194\n",
      "Extracting timeline of: @JLAceves\n",
      "Total tweets: 3196\n",
      "Extracting timeline of: @javieranton\n",
      "Total tweets: 3198\n",
      "Extracting timeline of: @Roser_Maestro\n",
      "Total tweets: 2801\n",
      "Extracting timeline of: @guillermomeijon\n",
      "Total tweets: 3203\n",
      "Extracting timeline of: @pedronavarrol\n",
      "Total tweets: 3189\n",
      "Extracting timeline of: @isabanes\n",
      "Total tweets: 3187\n",
      "Extracting timeline of: @Normapujol\n",
      "Total tweets: 3228\n",
      "Extracting timeline of: @CarmenRiolobos\n",
      "Total tweets: 3191\n",
      "Extracting timeline of: @DiegoMovellan\n",
      "Total tweets: 2480\n",
      "Extracting timeline of: @mestremanuel\n",
      "Total tweets: 686\n",
      "Extracting timeline of: @arnauramirez\n",
      "Total tweets: 390\n",
      "Extracting timeline of: @mapaniagua\n",
      "Total tweets: 3199\n",
      "Extracting timeline of: @Begonasarre\n",
      "Total tweets: 3192\n",
      "Extracting timeline of: @_Maria_Dantas_\n",
      "Total tweets: 3219\n",
      "Extracting timeline of: @cucagamarra\n",
      "Total tweets: 3216\n",
      "Extracting timeline of: @javier_merino\n",
      "Total tweets: 3197\n",
      "Extracting timeline of: @arandapaco\n",
      "Total tweets: 3158\n",
      "Extracting timeline of: @juralde\n",
      "Total tweets: 3224\n",
      "Extracting timeline of: @sanchezcastejon\n",
      "Total tweets: 3227\n",
      "Extracting timeline of: @martamartirio\n",
      "Total tweets: 3221\n",
      "Extracting timeline of: @joanmena\n",
      "Total tweets: 3233\n",
      "Extracting timeline of: @Hectorgomezh\n",
      "Total tweets: 3217\n",
      "Extracting timeline of: @sanchezdelreal\n",
      "Total tweets: 3197\n",
      "Extracting timeline of: @AinaVS\n",
      "Total tweets: 3224\n",
      "Extracting timeline of: @vicpiedra\n",
      "Total tweets: 3142\n",
      "Extracting timeline of: @ivanedlm\n",
      "Total tweets: 3136\n",
      "Extracting timeline of: @JACS_JaumeACS\n",
      "Total tweets: 3227\n",
      "Extracting timeline of: @sanchezcesar\n",
      "Total tweets: 3203\n",
      "Extracting timeline of: @OskarMatute\n",
      "Total tweets: 3201\n",
      "Extracting timeline of: @pnique\n",
      "Total tweets: 500\n",
      "Extracting timeline of: @gomezdcelis\n",
      "Total tweets: 3186\n",
      "Extracting timeline of: @perejoanpons\n",
      "Total tweets: 3231\n",
      "Extracting timeline of: @JoseantonioJun\n",
      "Total tweets: 3213\n",
      "Extracting timeline of: @LauraBorras\n",
      "Total tweets: 3233\n",
      "Extracting timeline of: @NUET\n",
      "Total tweets: 3223\n",
      "Extracting timeline of: @patxilopez\n",
      "Total tweets: 3202\n",
      "Extracting timeline of: @Viondi\n",
      "Total tweets: 3179\n",
      "Extracting timeline of: @joanmargall\n",
      "Total tweets: 3211\n",
      "Extracting timeline of: @agarzon\n",
      "Total tweets: 3206\n",
      "Extracting timeline of: @CesarJRamos\n",
      "Total tweets: 3201\n",
      "Extracting timeline of: @valentinam\n",
      "Total tweets: 2923\n",
      "Extracting timeline of: @franciscopolo\n",
      "Total tweets: 3217\n"
     ]
    }
   ],
   "source": [
    "#congress_members = twitter_client.twitter.get_list_members(list_id=utils.LIST_ALL_CONGRESS,count=5000)\n",
    "all_congress_tl = {}\n",
    "for c in congress_members['users']:\n",
    "    all_congress_tl[c['screen_name']]=twitter_client.get_timeline_df(c['screen_name'])   \n",
    "    with open('./data/politicians/{}.json'.format(c['screen_name']), 'w') as json_file:\n",
    "        json.dump(all_congress_tl[c['screen_name']].to_dict(), json_file)"
   ]
  },
  {
   "cell_type": "code",
   "execution_count": 14,
   "metadata": {},
   "outputs": [],
   "source": [
    "# @Montsechavar -> no auth\n"
   ]
  },
  {
   "cell_type": "code",
   "execution_count": 7,
   "metadata": {},
   "outputs": [
    {
     "name": "stdout",
     "output_type": "stream",
     "text": [
      "aalmodobar.json ..\\data\\aalmodobar.json\n"
     ]
    }
   ],
   "source": [
    "import os\n",
    "all_congress_tl = {}\n",
    "for file in os.listdir(\"..\\data\"):\n",
    "    if file.endswith(\".json\"):\n",
    "        print(file, os.path.join(\"..\\data\", file))\n",
    "        key = file.split('.')[0]\n",
    "        with open(os.path.join(\"..\\data\", file),'r') as json_file:\n",
    "            all_congress_tl[key]=pd.DataFrame.from_dict(json.load(json_file))\n",
    "    break"
   ]
  },
  {
   "cell_type": "code",
   "execution_count": 31,
   "metadata": {},
   "outputs": [
    {
     "data": {
      "text/plain": [
       "dict_keys(['aalmodobar'])"
      ]
     },
     "execution_count": 31,
     "metadata": {},
     "output_type": "execute_result"
    }
   ],
   "source": [
    "all_congress_tl.keys()"
   ]
  },
  {
   "cell_type": "code",
   "execution_count": 36,
   "metadata": {},
   "outputs": [],
   "source": [
    "list_journalists = twitter_client.twitter.get_list_members(list_id=222922574,count=5000)"
   ]
  },
  {
   "cell_type": "code",
   "execution_count": 39,
   "metadata": {},
   "outputs": [],
   "source": [
    "#list_journalists"
   ]
  },
  {
   "cell_type": "code",
   "execution_count": 1,
   "metadata": {},
   "outputs": [],
   "source": [
    "#list(map(lambda x: x['screen_name'],list_journalists['users']))+['iescolar','jordievole','_anapastor_','MonicaCarrillo','cristina_pardo']"
   ]
  },
  {
   "cell_type": "code",
   "execution_count": 1,
   "metadata": {},
   "outputs": [],
   "source": [
    "journalists = ['ErnestoEkaizer','ManuSanchezG','anabeldn','maria_carou','MsolHernandez','Luis_Angel_Sanz','ConchaCLC','marquesperales','lodiesan','carmenmorodo','Lacarreter','estherpalomera','maria_rey','MAYANTOXO','danielayllon','patiarce','KikoRosique','lcaldito','sonsolesonega','jl_sastre','PauladeLasHeras','javiercasqueiro','Fgarea','FernandoHValls','JuanmaRomero','ikaitor','basteiro','iescolar','jordievole','_anapastor_','MonicaCarrillo','cristina_pardo','ElenaValenciano']"
   ]
  },
  {
   "cell_type": "code",
   "execution_count": 9,
   "metadata": {},
   "outputs": [
    {
     "name": "stdout",
     "output_type": "stream",
     "text": [
      "Extracting timeline of: @ErnestoEkaizer\n",
      "Total tweets: 3220\n",
      "Extracting timeline of: @ManuSanchezG\n",
      "Total tweets: 3238\n",
      "Extracting timeline of: @anabeldn\n",
      "Total tweets: 3087\n",
      "Extracting timeline of: @maria_carou\n",
      "Total tweets: 1455\n",
      "Extracting timeline of: @MsolHernandez\n",
      "Total tweets: 3191\n",
      "Extracting timeline of: @Luis_Angel_Sanz\n",
      "Total tweets: 3231\n",
      "Extracting timeline of: @ConchaCLC\n",
      "Total tweets: 3190\n",
      "Extracting timeline of: @marquesperales\n",
      "Total tweets: 3218\n",
      "Extracting timeline of: @lodiesan\n",
      "Total tweets: 3198\n",
      "Extracting timeline of: @carmenmorodo\n",
      "Total tweets: 3197\n",
      "Extracting timeline of: @Lacarreter\n",
      "Total tweets: 3220\n",
      "Extracting timeline of: @estherpalomera\n",
      "Total tweets: 3247\n",
      "Extracting timeline of: @maria_rey\n",
      "Total tweets: 3187\n",
      "Extracting timeline of: @MAYANTOXO\n",
      "Total tweets: 3208\n",
      "Extracting timeline of: @danielayllon\n",
      "Total tweets: 3205\n",
      "Extracting timeline of: @patiarce\n",
      "Total tweets: 3181\n",
      "Extracting timeline of: @KikoRosique\n",
      "Total tweets: 1897\n",
      "Extracting timeline of: @lcaldito\n",
      "Total tweets: 3194\n",
      "Extracting timeline of: @sonsolesonega\n",
      "Total tweets: 3221\n",
      "Extracting timeline of: @jl_sastre\n",
      "Total tweets: 3151\n",
      "Extracting timeline of: @PauladeLasHeras\n",
      "Total tweets: 3194\n",
      "Extracting timeline of: @javiercasqueiro\n",
      "Total tweets: 3217\n",
      "Extracting timeline of: @Fgarea\n",
      "Total tweets: 3208\n",
      "Extracting timeline of: @FernandoHValls\n",
      "Total tweets: 3249\n",
      "Extracting timeline of: @JuanmaRomero\n",
      "Total tweets: 3244\n",
      "Extracting timeline of: @ikaitor\n",
      "Total tweets: 3230\n",
      "Extracting timeline of: @basteiro\n",
      "Total tweets: 3235\n",
      "Extracting timeline of: @iescolar\n",
      "Total tweets: 3218\n",
      "Extracting timeline of: @jordievole\n",
      "Total tweets: 3213\n",
      "Extracting timeline of: @_anapastor_\n",
      "Total tweets: 3225\n",
      "Extracting timeline of: @MonicaCarrillo\n",
      "Total tweets: 3191\n",
      "Extracting timeline of: @cristina_pardo\n",
      "Total tweets: 3097\n",
      "Extracting timeline of: @ElenaValenciano\n",
      "Total tweets: 3158\n"
     ]
    }
   ],
   "source": [
    "all_jornalists = {}\n",
    "for c in journalists:\n",
    "    all_jornalists[c]=twitter_client.get_timeline_df(c)   \n",
    "    with open('./data/influencers/{}.json'.format(c), 'w') as json_file:\n",
    "        json.dump(all_jornalists[c].to_dict(), json_file)"
   ]
  },
  {
   "cell_type": "code",
   "execution_count": null,
   "metadata": {},
   "outputs": [],
   "source": []
  }
 ],
 "metadata": {
  "kernelspec": {
   "display_name": "Python 3",
   "language": "python",
   "name": "python3"
  },
  "language_info": {
   "codemirror_mode": {
    "name": "ipython",
    "version": 3
   },
   "file_extension": ".py",
   "mimetype": "text/x-python",
   "name": "python",
   "nbconvert_exporter": "python",
   "pygments_lexer": "ipython3",
   "version": "3.7.4"
  }
 },
 "nbformat": 4,
 "nbformat_minor": 4
}
