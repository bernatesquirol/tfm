{
 "cells": [
  {
   "cell_type": "code",
   "execution_count": null,
   "metadata": {
    "lines_to_next_cell": 2
   },
   "outputs": [],
   "source": [
    "import os\n",
    "import pandas as pd\n",
    "import json\n",
    "import numpy as np"
   ]
  },
  {
   "cell_type": "code",
   "execution_count": null,
   "metadata": {
    "lines_to_next_cell": 2
   },
   "outputs": [],
   "source": [
    "import utils"
   ]
  },
  {
   "cell_type": "markdown",
   "metadata": {},
   "source": [
    "# General patterns"
   ]
  },
  {
   "cell_type": "code",
   "execution_count": null,
   "metadata": {
    "lines_to_next_cell": 2
   },
   "outputs": [],
   "source": [
    "import pandas as pd"
   ]
  },
  {
   "cell_type": "code",
   "execution_count": null,
   "metadata": {},
   "outputs": [],
   "source": [
    "from __future__ import print_function\n",
    "from ipywidgets import interact, interactive, fixed, interact_manual"
   ]
  },
  {
   "cell_type": "code",
   "execution_count": null,
   "metadata": {},
   "outputs": [],
   "source": [
    "%load_ext autoreload"
   ]
  },
  {
   "cell_type": "code",
   "execution_count": null,
   "metadata": {},
   "outputs": [],
   "source": [
    "%autoreload 2"
   ]
  },
  {
   "cell_type": "code",
   "execution_count": null,
   "metadata": {
    "lines_to_next_cell": 2
   },
   "outputs": [],
   "source": [
    "# twitter_client = utils.TwitterClient()"
   ]
  },
  {
   "cell_type": "code",
   "execution_count": null,
   "metadata": {
    "lines_to_next_cell": 2
   },
   "outputs": [],
   "source": [
    "politicians = utils.load_users('politicians', party=True)"
   ]
  },
  {
   "cell_type": "code",
   "execution_count": null,
   "metadata": {
    "lines_to_next_cell": 2
   },
   "outputs": [],
   "source": [
    "random_friends = utils.load_users('random-friends')"
   ]
  },
  {
   "cell_type": "code",
   "execution_count": null,
   "metadata": {},
   "outputs": [],
   "source": [
    "random_followers = utils.load_users('random-followers')"
   ]
  },
  {
   "cell_type": "code",
   "execution_count": null,
   "metadata": {},
   "outputs": [],
   "source": [
    "journalists = utils.load_users('journalists')"
   ]
  },
  {
   "cell_type": "markdown",
   "metadata": {},
   "source": [
    "# Plot interactive"
   ]
  },
  {
   "cell_type": "code",
   "execution_count": null,
   "metadata": {
    "lines_to_next_cell": 2
   },
   "outputs": [],
   "source": [
    "politicians['type']=0\n",
    "journalists['type']=1\n",
    "random_friends['type']=2\n",
    "random_followers['type']=3\n",
    "all_users = pd.concat([politicians,journalists,random_friends, random_followers], sort=False)"
   ]
  },
  {
   "cell_type": "code",
   "execution_count": null,
   "metadata": {
    "lines_to_next_cell": 2
   },
   "outputs": [],
   "source": [
    "all_users['party']=all_users['party'].fillna('--')\n",
    "all_users_no_null = utils.filter_users(all_users[-all_users.isnull().any(axis=1)])"
   ]
  },
  {
   "cell_type": "markdown",
   "metadata": {},
   "source": [
    "### random-friends vs random-followers"
   ]
  },
  {
   "cell_type": "code",
   "execution_count": null,
   "metadata": {},
   "outputs": [],
   "source": [
    "utils.create_interactive_viz(pd.concat([all_users_no_null[all_users_no_null['type'].isin([2,3])]]))"
   ]
  },
  {
   "cell_type": "markdown",
   "metadata": {},
   "source": [
    "# Distribution of outliers"
   ]
  },
  {
   "cell_type": "code",
   "execution_count": null,
   "metadata": {
    "lines_to_next_cell": 2
   },
   "outputs": [],
   "source": [
    "from pylab import rcParams\n",
    "rcParams['figure.figsize'] = 15, 8"
   ]
  },
  {
   "cell_type": "code",
   "execution_count": null,
   "metadata": {},
   "outputs": [],
   "source": [
    "import scipy.stats as st"
   ]
  },
  {
   "cell_type": "code",
   "execution_count": null,
   "metadata": {},
   "outputs": [],
   "source": [
    "import matplotlib.pyplot as plt"
   ]
  },
  {
   "cell_type": "code",
   "execution_count": null,
   "metadata": {},
   "outputs": [],
   "source": [
    "def mean_hist(series,ax, n=1000, prop=0.7, **kwargs):\n",
    "    sample_size = int(prop*len(series))\n",
    "    mean_hist = [np.sort(series.sample(sample_size).values) for i in range(n)]\n",
    "    ax.hist(np.mean(mean_hist, axis=0), density=1, alpha=0.7, **kwargs)\n",
    "    ax.legend([kwargs['label']])"
   ]
  },
  {
   "cell_type": "code",
   "execution_count": null,
   "metadata": {},
   "outputs": [],
   "source": [
    "politicians_f = utils.filter_users(politicians)\n",
    "journalists_f = utils.filter_users(journalists)\n",
    "random_followers_f = utils.filter_users(random_followers)\n",
    "random_friends_f = utils.filter_users(random_friends)"
   ]
  },
  {
   "cell_type": "code",
   "execution_count": null,
   "metadata": {},
   "outputs": [],
   "source": [
    "fig, ((ax1, ax2), (ax3, ax4)) = plt.subplots(2, 2)\n",
    "r1 = mean_hist(random_friends_f['num_outliers_2'],  prop=0.5, n=100, label='random_following', ax=ax1)\n",
    "r2 = mean_hist(random_followers_f['num_outliers_2'],  prop=0.5, n=100, label='random_followers',ax=ax2)\n",
    "p = mean_hist(politicians_f['num_outliers_2'], prop=0.5, n=100, label='politicians', ax=ax3)\n",
    "j = mean_hist(journalists_f['num_outliers_2'], prop=0.5, n=100,  label='journalists',ax=ax4)\n",
    "plt.title('Outliers distribution')"
   ]
  },
  {
   "cell_type": "markdown",
   "metadata": {},
   "source": [
    "## Fit distributions"
   ]
  },
  {
   "cell_type": "code",
   "execution_count": null,
   "metadata": {
    "lines_to_next_cell": 2
   },
   "outputs": [],
   "source": [
    "utils.plot_best_args(journalists_f['num_outliers_2'].value_counts().sort_index(), 'gamma', title='journalists')"
   ]
  },
  {
   "cell_type": "code",
   "execution_count": null,
   "metadata": {},
   "outputs": [],
   "source": [
    "utils.plot_best_args(politicians_f['num_outliers_2'].value_counts().sort_index(), 'gamma', title='politicians')"
   ]
  },
  {
   "cell_type": "code",
   "execution_count": null,
   "metadata": {},
   "outputs": [],
   "source": [
    "utils.plot_best_args(random_friends_f['num_outliers_2'].value_counts().sort_index(), 'gamma', 'random_friends')"
   ]
  },
  {
   "cell_type": "code",
   "execution_count": null,
   "metadata": {},
   "outputs": [],
   "source": [
    "utils.plot_best_args(random_followers_f['num_outliers_2'].value_counts().sort_index(), 'gamma', 'random_friends')"
   ]
  },
  {
   "cell_type": "markdown",
   "metadata": {},
   "source": [
    "## Dataframe p_values"
   ]
  },
  {
   "cell_type": "code",
   "execution_count": null,
   "metadata": {
    "lines_to_next_cell": 2
   },
   "outputs": [],
   "source": [
    "dbs = [politicians_f, journalists_f, random_friends_f, random_followers_f]\n",
    "names = ['politicians', 'journalists', 'random_friends', 'random_followers']\n",
    "dict_pvalue = {}\n",
    "dict_statistic = {}\n",
    "for i, db_1 in enumerate(dbs):\n",
    "    dict_pvalue[names[i]] = {}\n",
    "    dict_statistic[names[i]] = {}\n",
    "    for j, db_2 in enumerate(dbs):\n",
    "        tests = utils.compare_two_distributions(db_1['num_outliers_2'], db_2['num_outliers_2'], prop=0.8, n=1000)\n",
    "        dict_statistic[names[i]][names[j]]=tests[0]\n",
    "        dict_pvalue[names[i]][names[j]]=tests[1]"
   ]
  },
  {
   "cell_type": "code",
   "execution_count": null,
   "metadata": {},
   "outputs": [],
   "source": [
    "pd.DataFrame.from_dict(dict_pvalue).round(7)"
   ]
  },
  {
   "cell_type": "code",
   "execution_count": null,
   "metadata": {},
   "outputs": [],
   "source": []
  },
  {
   "cell_type": "markdown",
   "metadata": {},
   "source": [
    "# Clustering"
   ]
  },
  {
   "cell_type": "code",
   "execution_count": null,
   "metadata": {
    "lines_to_next_cell": 2
   },
   "outputs": [],
   "source": [
    "from sklearn.decomposition import PCA #Principal Component Analysis\n",
    "from sklearn.manifold import TSNE #T-Distributed Stochastic Neighbor Embedding\n",
    "from sklearn.cluster import KMeans #K-Means Clustering\n",
    "from sklearn.preprocessing import StandardScaler #used for 'Feature Scaling'"
   ]
  },
  {
   "cell_type": "code",
   "execution_count": null,
   "metadata": {},
   "outputs": [],
   "source": [
    "all_users_no_null = politicians[-politicians.isnull().any(axis=1)]"
   ]
  },
  {
   "cell_type": "code",
   "execution_count": null,
   "metadata": {},
   "outputs": [],
   "source": [
    "plot(all_users_no_null, ['like_tweet_ratio', 'social_ratio', 'rt_sratio'], color_column)"
   ]
  },
  {
   "cell_type": "code",
   "execution_count": null,
   "metadata": {},
   "outputs": [],
   "source": [
    "def get_PCA(df, dim=3, columns=[]):\n",
    "    pca = PCA(n_components=dim)\n",
    "    if len(columns) == 0:\n",
    "        columns = df.columns\n",
    "    scaler = StandardScaler()\n",
    "    df_pca = pd.DataFrame(scaler.fit_transform(df[columns].copy()), columns=columns, index=df.index )\n",
    "    df_final = df.copy()\n",
    "    columns_pca = ['PCA_{}'.format(i) for i in range(dim)]\n",
    "    df_final[columns_pca] = pd.DataFrame(pca.fit_transform(df_pca),columns=columns_pca, index=df_pca.index)\n",
    "    return df_final, columns_pca, pca"
   ]
  },
  {
   "cell_type": "code",
   "execution_count": null,
   "metadata": {},
   "outputs": [],
   "source": [
    "def get_tSNE(df, dim=3, perplexity=50, columns=[]):\n",
    "    from sklearn.manifold import TSNE #T-Distributed Stochastic Neighbor Embedding\n",
    "    tsne = TSNE(n_components=dim, perplexity=perplexity)\n",
    "    if len(columns) == 0:\n",
    "        columns = df.columns\n",
    "    scaler = StandardScaler()\n",
    "    df_tsne = pd.DataFrame(scaler.fit_transform(df[columns].copy()), columns=columns, index=df.index )\n",
    "    df_final = df.copy()\n",
    "    columns_tsne = ['tSNE_{}'.format(i) for i in range(dim)]\n",
    "    df_final[columns_tsne] = pd.DataFrame(tsne.fit_transform(df_tsne),columns=columns_tsne, index=df_tsne.index)\n",
    "    return df_final, columns_tsne, tsne"
   ]
  },
  {
   "cell_type": "code",
   "execution_count": null,
   "metadata": {
    "lines_to_next_cell": 2
   },
   "outputs": [],
   "source": [
    "columns = ['frequency_timeline', 'frequency_like', 'like_tweet_ratio',\n",
    "       'social_ratio', '1_2_ratios']"
   ]
  },
  {
   "cell_type": "code",
   "execution_count": null,
   "metadata": {},
   "outputs": [],
   "source": [
    "# all_users_no_null= all_users_no_null[all_users_no_null.index!='ierrejon'].copy()\n",
    "len(all_users_no_null)"
   ]
  },
  {
   "cell_type": "code",
   "execution_count": null,
   "metadata": {
    "lines_to_next_cell": 2
   },
   "outputs": [],
   "source": [
    "df_pca, columns_pca, pca = get_PCA(all_users_no_null,dim=3, columns=columns)\n",
    "df_tsne, columns_tsne, tsne = get_tSNE(df_pca, dim=3, columns=columns)"
   ]
  },
  {
   "cell_type": "code",
   "execution_count": null,
   "metadata": {},
   "outputs": [],
   "source": [
    "df_tsne.columns"
   ]
  },
  {
   "cell_type": "code",
   "execution_count": null,
   "metadata": {},
   "outputs": [],
   "source": [
    "color_column = 'type'\n",
    "#df_tsne = df_tsne[columns+columns_tsne+columns_pca+[color_column]]"
   ]
  },
  {
   "cell_type": "code",
   "execution_count": null,
   "metadata": {
    "lines_to_next_cell": 2
   },
   "outputs": [],
   "source": [
    "plot(df_tsne, columns_pca, color_column)"
   ]
  },
  {
   "cell_type": "code",
   "execution_count": null,
   "metadata": {},
   "outputs": [],
   "source": [
    "df_pca_politicians, columns_pca, pca = get_PCA(politicians[-politicians.isnull().any(axis=1)],dim=3, columns=columns)"
   ]
  },
  {
   "cell_type": "code",
   "execution_count": null,
   "metadata": {},
   "outputs": [],
   "source": [
    "columns"
   ]
  },
  {
   "cell_type": "code",
   "execution_count": null,
   "metadata": {},
   "outputs": [],
   "source": [
    "pca.components_"
   ]
  },
  {
   "cell_type": "code",
   "execution_count": null,
   "metadata": {},
   "outputs": [],
   "source": [
    "plot(df_pca_politicians, columns_pca, 'party')"
   ]
  },
  {
   "cell_type": "code",
   "execution_count": null,
   "metadata": {},
   "outputs": [],
   "source": [
    "plot(df_tsne[df_tsne['type']==0], columns_pca, 'party')"
   ]
  },
  {
   "cell_type": "code",
   "execution_count": null,
   "metadata": {
    "lines_to_next_cell": 2
   },
   "outputs": [],
   "source": [
    "plot(df_tsne, columns_tsne, column_to_color=color_column)"
   ]
  },
  {
   "cell_type": "markdown",
   "metadata": {},
   "source": [
    "## Clustering by distribution num outliers"
   ]
  },
  {
   "cell_type": "code",
   "execution_count": null,
   "metadata": {},
   "outputs": [],
   "source": [
    "st.wasserstein_distance"
   ]
  },
  {
   "cell_type": "code",
   "execution_count": null,
   "metadata": {},
   "outputs": [],
   "source": [
    "def load_user_distribution_action_users(db,root='./data', party=False):\n",
    "    import os\n",
    "    path = os.path.join(root,db)\n",
    "    dict_distributions = {}\n",
    "    dict_party = {}\n",
    "    for p in os.listdir(path):\n",
    "        path_file = os.path.join(path,p)\n",
    "        actions = pd.read_pickle(path_file).reset_index()\n",
    "        if len(actions)>2:     \n",
    "            if party:\n",
    "                dict_party[p[:-4]] = get_political_party(utils.user_frequency(actions))\n",
    "            timeline = actions[actions['type']!='Like']\n",
    "            u_freq = utils.user_frequency(timeline, skip_ones=True)\n",
    "            if len(u_freq)>1:\n",
    "                dict_distributions[p[:-4]] = u_freq\n",
    "    return dict_distributions, dict_party"
   ]
  },
  {
   "cell_type": "code",
   "execution_count": null,
   "metadata": {},
   "outputs": [],
   "source": [
    "def load_db_profiles(db,root='./data', db_profiles=None, dict_party=None):\n",
    "    db_profiles = pd.read_pickle('./data/'+db+'.pkl')\n",
    "    user_profile = ['followers_count','friends_count', 'verified', 'statuses_count','favourites_count']\n",
    "    if dict_party:\n",
    "        series_party = pd.Series(dict_party)\n",
    "        db_profiles.loc[series_party.index,'party']=series_party.fillna('--')\n",
    "        user_profile+=['party']\n",
    "    return db_profiles[user_profile]\n",
    "    \n"
   ]
  },
  {
   "cell_type": "code",
   "execution_count": null,
   "metadata": {},
   "outputs": [],
   "source": [
    "key = 'politicians'"
   ]
  },
  {
   "cell_type": "code",
   "execution_count": null,
   "metadata": {},
   "outputs": [],
   "source": [
    "dist_politicians, dict_party_p = load_user_distribution_action_users('politicians') \n",
    "# dist_politicians, dict_party_f = load_user_distribution_action_users('') \n",
    "# dict_party"
   ]
  },
  {
   "cell_type": "code",
   "execution_count": null,
   "metadata": {},
   "outputs": [],
   "source": [
    "dist_journalists, dict_party_p = load_user_distribution_action_users('journalists') "
   ]
  },
  {
   "cell_type": "code",
   "execution_count": null,
   "metadata": {},
   "outputs": [],
   "source": [
    "dist_random_followers, dict_party_r = load_user_distribution_action_users('random-followers') "
   ]
  },
  {
   "cell_type": "code",
   "execution_count": null,
   "metadata": {},
   "outputs": [],
   "source": [
    "dist_random_friends, dict_party_r = load_user_distribution_action_users('random-friends') "
   ]
  },
  {
   "cell_type": "code",
   "execution_count": null,
   "metadata": {},
   "outputs": [],
   "source": [
    "# dist_politicians\n",
    "series_party = pd.Series(dict_party)"
   ]
  },
  {
   "cell_type": "code",
   "execution_count": null,
   "metadata": {},
   "outputs": [],
   "source": [
    "# series_party\n",
    "series_party"
   ]
  },
  {
   "cell_type": "code",
   "execution_count": null,
   "metadata": {},
   "outputs": [],
   "source": [
    "# series_party = pd.Series(dict_party)\n",
    "# df = pd.DataFrame(index=dist_politicians.keys())\n",
    "# user_profile = ['followers_count','friends_count', 'verified', 'statuses_count','favourites_count','party']\n",
    "# profiles = pd.read_pickle('./data/'+key+'.pkl')\n",
    "# profiles.loc[series_party.index,'party']=series_party.fillna('--')"
   ]
  },
  {
   "cell_type": "code",
   "execution_count": null,
   "metadata": {},
   "outputs": [],
   "source": [
    "dict_big = {**dist_journalists, **dist_random_followers, **dist_random_friends, **dist_politicians}"
   ]
  },
  {
   "cell_type": "code",
   "execution_count": null,
   "metadata": {},
   "outputs": [],
   "source": [
    "len(dict_big)"
   ]
  },
  {
   "cell_type": "code",
   "execution_count": null,
   "metadata": {},
   "outputs": [],
   "source": [
    "df = pd.Series(index=list(dict_big.keys()))"
   ]
  },
  {
   "cell_type": "code",
   "execution_count": null,
   "metadata": {},
   "outputs": [],
   "source": [
    "df"
   ]
  },
  {
   "cell_type": "code",
   "execution_count": null,
   "metadata": {},
   "outputs": [],
   "source": [
    "df = pd.DataFrame(index=list(dict_big.keys()))\n",
    "for i, id_u in enumerate(df.index):\n",
    "    dist_u = dict_big[id_u]\n",
    "    a = [st.wasserstein_distance(dict_big[id_v].values, dist_u.values) for id_v in df.index]\n",
    "    df[id_u]=a"
   ]
  },
  {
   "cell_type": "code",
   "execution_count": null,
   "metadata": {},
   "outputs": [],
   "source": [
    "import umap\n",
    "fit = umap.UMAP(n_components=2, random_state=42, metric='precomputed')"
   ]
  },
  {
   "cell_type": "code",
   "execution_count": null,
   "metadata": {},
   "outputs": [],
   "source": [
    "# df.head()"
   ]
  },
  {
   "cell_type": "code",
   "execution_count": null,
   "metadata": {},
   "outputs": [],
   "source": [
    "u = fit.fit_transform(df)"
   ]
  },
  {
   "cell_type": "code",
   "execution_count": null,
   "metadata": {},
   "outputs": [],
   "source": [
    "columns_umap=['UMAP_{}'.format(i) for i in range(len(u[0]))]"
   ]
  },
  {
   "cell_type": "code",
   "execution_count": null,
   "metadata": {},
   "outputs": [],
   "source": [
    "umap_df = pd.DataFrame(u, index=df.index, columns=columns_umap)\n",
    "# umap_df = umap_df.join(profiles[user_profile])"
   ]
  },
  {
   "cell_type": "code",
   "execution_count": null,
   "metadata": {},
   "outputs": [],
   "source": [
    "umap_df.loc[dist_politicians.keys(), 'type']='politicians'"
   ]
  },
  {
   "cell_type": "code",
   "execution_count": null,
   "metadata": {},
   "outputs": [],
   "source": [
    "umap_df.loc[dist_random_followers.keys(), 'type']='random_followers'"
   ]
  },
  {
   "cell_type": "code",
   "execution_count": null,
   "metadata": {},
   "outputs": [],
   "source": [
    "umap_df.loc[dist_random_friends.keys(), 'type']='random_friends'"
   ]
  },
  {
   "cell_type": "code",
   "execution_count": null,
   "metadata": {},
   "outputs": [],
   "source": [
    "umap_df.loc[dist_journalists.keys(), 'type']='journalists'"
   ]
  },
  {
   "cell_type": "code",
   "execution_count": null,
   "metadata": {},
   "outputs": [],
   "source": [
    "plot(umap_df, columns_umap, column_to_color='type').write_html('dist_umap_type.html', auto_open=True)"
   ]
  }
 ],
 "metadata": {
  "jupytext": {
   "cell_metadata_filter": "-all",
   "encoding": "# coding: utf-8",
   "executable": "/usr/bin/env python",
   "notebook_metadata_filter": "-all",
   "text_representation": {
    "extension": ".py",
    "format_name": "percent"
   }
  },
  "kernelspec": {
   "display_name": "Python 3",
   "language": "python",
   "name": "python3"
  }
 },
 "nbformat": 4,
 "nbformat_minor": 4
}
