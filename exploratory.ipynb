{
 "cells": [
  {
   "cell_type": "code",
   "execution_count": 1,
   "metadata": {},
   "outputs": [],
   "source": [
    "import os\n",
    "import pandas as pd\n",
    "import json"
   ]
  },
  {
   "cell_type": "code",
   "execution_count": 2,
   "metadata": {},
   "outputs": [],
   "source": [
    "import utils\n",
    "import altair as alt\n"
   ]
  },
  {
   "cell_type": "code",
   "execution_count": 3,
   "metadata": {},
   "outputs": [],
   "source": [
    "%load_ext autoreload"
   ]
  },
  {
   "cell_type": "markdown",
   "metadata": {},
   "source": [
    "# Inspect one user only"
   ]
  },
  {
   "cell_type": "code",
   "execution_count": 4,
   "metadata": {},
   "outputs": [],
   "source": [
    "def get_user_final_timeline(user, type_user):\n",
    "    with open(os.path.join(\".\\data\\{}\".format(type_user), user+'.json'),'r') as json_file:\n",
    "            timeline=pd.DataFrame.from_dict(json.load(json_file))\n",
    "    final = utils.get_retweet_and_quoted(timeline)\n",
    "    screen_names = final['user'].apply(lambda x: x['screen_name'])\n",
    "    all_rt_users = final['user'].apply(lambda x: x['screen_name']).value_counts()\n",
    "    relevant_outlayers = utils.relevant_outlayers(all_rt_users)\n",
    "    final['outlayer']=screen_names.apply(lambda user: relevant_outlayers[user])\n",
    "    return final"
   ]
  },
  {
   "cell_type": "code",
   "execution_count": 5,
   "metadata": {},
   "outputs": [],
   "source": [
    "def plot_top_users_time(user, type_user='politicians'):\n",
    "    final = get_user_final_timeline(user, type_user)\n",
    "    all_users_x_month = alt.Chart(final,width=400).mark_bar(\n",
    "        cornerRadiusTopLeft=3,\n",
    "        cornerRadiusTopRight=3\n",
    "    ).encode(\n",
    "        x='yearmonth(created_at):O',\n",
    "        y=alt.Y('count():Q'),#, sort=alt.SortField(field=\"count():Q\", op=\"distinct\", order='ascending')),\n",
    "        color=alt.Color('user.screen_name:N',sort='-y'),\n",
    "        order=alt.Order('count():Q')\n",
    "    )\n",
    "    outlayer_transparency = alt.Chart(final, width=400).mark_bar(\n",
    "        cornerRadiusTopLeft=3,\n",
    "        cornerRadiusTopRight=3,\n",
    "        opacity=0.7,\n",
    "        color='black'\n",
    "    ).encode(\n",
    "        x='yearmonth(created_at):O',\n",
    "        y=alt.Y('count():Q'),#, sort=alt.SortField(field=\"count():Q\", op=\"distinct\", order='ascending')),\n",
    "        opacity=alt.Opacity('outlayer:O',sort='-y', scale=alt.Scale(range=[0.35,0])),\n",
    "        order='order:N'\n",
    "    ).transform_calculate(\n",
    "        order=\"if (datum.outlayer, 1, 0)\"\n",
    "    )\n",
    "    return alt.layer(all_users_x_month,outlayer_transparency).resolve_scale(color='independent')"
   ]
  },
  {
   "cell_type": "code",
   "execution_count": 1,
   "metadata": {},
   "outputs": [],
   "source": [
    "#plot_top_users_time('LauraBorras')"
   ]
  },
  {
   "cell_type": "code",
   "execution_count": 9,
   "metadata": {
    "scrolled": false
   },
   "outputs": [],
   "source": [
    "def plot_top_rt_and_quote(user,type_user='politicians'):\n",
    "    final = get_user_final_timeline(user, type_user)\n",
    "    return alt.Chart(final).mark_bar(\n",
    "        cornerRadiusTopLeft=3,\n",
    "        cornerRadiusTopRight=3\n",
    "    ).encode(\n",
    "        x=alt.X('user.screen_name:N', sort='-y'),\n",
    "        y=alt.Y('count():Q'),\n",
    "        color='outlayer'\n",
    "    )"
   ]
  },
  {
   "cell_type": "code",
   "execution_count": 2,
   "metadata": {},
   "outputs": [],
   "source": [
    "#plot_top_rt_and_quote('LauraBorras')"
   ]
  },
  {
   "cell_type": "markdown",
   "metadata": {},
   "source": [
    "# General patterns"
   ]
  },
  {
   "cell_type": "code",
   "execution_count": 11,
   "metadata": {},
   "outputs": [],
   "source": [
    "def create_dict(type_user='politicians'):\n",
    "    all_users = {}\n",
    "    for file in os.listdir(\".\\data\\{}\".format(type_user)):\n",
    "        if file.endswith(\".json\"):\n",
    "            key = file.split('.')[0]\n",
    "            with open(os.path.join(\".\\data\\{}\".format(type_user), file),'r') as json_file:\n",
    "                all_users[key]=pd.DataFrame.from_dict(json.load(json_file))\n",
    "    return all_users"
   ]
  },
  {
   "cell_type": "code",
   "execution_count": 2,
   "metadata": {},
   "outputs": [],
   "source": [
    "all_congress = create_dict()"
   ]
  },
  {
   "cell_type": "code",
   "execution_count": 1,
   "metadata": {},
   "outputs": [],
   "source": [
    "#top10\n",
    "#len(all_congress)"
   ]
  },
  {
   "cell_type": "code",
   "execution_count": 13,
   "metadata": {},
   "outputs": [
    {
     "data": {
      "text/plain": [
       "313"
      ]
     },
     "execution_count": 13,
     "metadata": {},
     "output_type": "execute_result"
    }
   ],
   "source": [
    "def normalized_top10(all_timelines, n_top=10):   \n",
    "    dict_len_tweets = {}\n",
    "    for k,v in all_timelines.items():\n",
    "        dict_len_tweets[k]=len(v)\n",
    "        if len(v)>0:\n",
    "            rt_quoted = utils.get_retweet_and_quoted(v)\n",
    "            top = rt_quoted['user'].apply(lambda x: x['screen_name']).value_counts()\n",
    "            if n_top:\n",
    "                top = top[:n_top]\n",
    "            sum_top = sum(top)\n",
    "            for k2,v2 in top.iteritems():            \n",
    "                top[k2]=(v2/sum_top)\n",
    "            dict_top[k]=list(top.values())\n",
    "    top10_df = pd.DataFrame(dict_top10).transpose()\n",
    "    #top10_df['total_tweets'] = top10_df.apply(lambda x: dict_len_tweets[x.name], axis=1)\n",
    "    return top10"
   ]
  },
  {
   "cell_type": "code",
   "execution_count": null,
   "metadata": {},
   "outputs": [],
   "source": [
    "dict_value_counts = {k:utils.get_retweet_and_quoted(v) for k,v in all_congress.items() if len(v)>0}"
   ]
  },
  {
   "cell_type": "code",
   "execution_count": 59,
   "metadata": {},
   "outputs": [],
   "source": [
    "dict_value_counts = {k:utils.get_retweet_and_quoted(v)['user'].apply(lambda x: x['screen_name']).value_counts() for k,v in all_congress.items() if len(v)>10}"
   ]
  },
  {
   "cell_type": "code",
   "execution_count": 65,
   "metadata": {},
   "outputs": [],
   "source": [
    "dict_value_counts = {k:v['user'].apply(lambda x: x['screen_name']).value_counts() for k,v in dict_value_counts.items() if len(v)>0}"
   ]
  },
  {
   "cell_type": "code",
   "execution_count": 139,
   "metadata": {
    "scrolled": true
   },
   "outputs": [],
   "source": [
    "dict_top10 = {}\n",
    "for k,v in dict_value_counts.items():\n",
    "    if len(v)>10:\n",
    "        sum_top10 = sum(v[:10])\n",
    "        top10 = {}\n",
    "        for k2,v2 in v[:10].iteritems():            \n",
    "            top10[k2]=(v2/sum_top10)\n",
    "        dict_top10[k]=list(top10.values())"
   ]
  },
  {
   "cell_type": "code",
   "execution_count": 140,
   "metadata": {},
   "outputs": [],
   "source": [
    "top10_df = pd.DataFrame(dict_top10).transpose()"
   ]
  },
  {
   "cell_type": "code",
   "execution_count": 141,
   "metadata": {},
   "outputs": [],
   "source": [
    "top10_df['total_tweets'] = top10_df.apply(lambda x: dict_len_tweets[x.name], axis=1)"
   ]
  },
  {
   "cell_type": "code",
   "execution_count": 175,
   "metadata": {},
   "outputs": [],
   "source": [
    "top10_df['total_tweets_q'] = pd.qcut(top10_df['total_tweets'], 4, labels=False)"
   ]
  },
  {
   "cell_type": "code",
   "execution_count": 191,
   "metadata": {},
   "outputs": [
    {
     "data": {
      "text/html": [
       "<div>\n",
       "<style scoped>\n",
       "    .dataframe tbody tr th:only-of-type {\n",
       "        vertical-align: middle;\n",
       "    }\n",
       "\n",
       "    .dataframe tbody tr th {\n",
       "        vertical-align: top;\n",
       "    }\n",
       "\n",
       "    .dataframe thead th {\n",
       "        text-align: right;\n",
       "    }\n",
       "</style>\n",
       "<table border=\"1\" class=\"dataframe\">\n",
       "  <thead>\n",
       "    <tr style=\"text-align: right;\">\n",
       "      <th></th>\n",
       "      <th>0</th>\n",
       "      <th>1</th>\n",
       "      <th>2</th>\n",
       "      <th>3</th>\n",
       "      <th>4</th>\n",
       "      <th>5</th>\n",
       "      <th>6</th>\n",
       "      <th>7</th>\n",
       "      <th>8</th>\n",
       "      <th>9</th>\n",
       "      <th>total_tweets</th>\n",
       "    </tr>\n",
       "    <tr>\n",
       "      <th>total_tweets_q</th>\n",
       "      <th></th>\n",
       "      <th></th>\n",
       "      <th></th>\n",
       "      <th></th>\n",
       "      <th></th>\n",
       "      <th></th>\n",
       "      <th></th>\n",
       "      <th></th>\n",
       "      <th></th>\n",
       "      <th></th>\n",
       "      <th></th>\n",
       "    </tr>\n",
       "  </thead>\n",
       "  <tbody>\n",
       "    <tr>\n",
       "      <td>0</td>\n",
       "      <td>0.320239</td>\n",
       "      <td>0.202902</td>\n",
       "      <td>0.124196</td>\n",
       "      <td>0.085277</td>\n",
       "      <td>0.065936</td>\n",
       "      <td>0.053058</td>\n",
       "      <td>0.045218</td>\n",
       "      <td>0.038623</td>\n",
       "      <td>0.034167</td>\n",
       "      <td>0.030384</td>\n",
       "      <td>791.558442</td>\n",
       "    </tr>\n",
       "    <tr>\n",
       "      <td>1</td>\n",
       "      <td>0.295963</td>\n",
       "      <td>0.179198</td>\n",
       "      <td>0.122301</td>\n",
       "      <td>0.088963</td>\n",
       "      <td>0.071681</td>\n",
       "      <td>0.061176</td>\n",
       "      <td>0.051943</td>\n",
       "      <td>0.047278</td>\n",
       "      <td>0.042923</td>\n",
       "      <td>0.038573</td>\n",
       "      <td>2875.831169</td>\n",
       "    </tr>\n",
       "    <tr>\n",
       "      <td>2</td>\n",
       "      <td>0.320445</td>\n",
       "      <td>0.183452</td>\n",
       "      <td>0.123488</td>\n",
       "      <td>0.089843</td>\n",
       "      <td>0.069335</td>\n",
       "      <td>0.055415</td>\n",
       "      <td>0.047302</td>\n",
       "      <td>0.041155</td>\n",
       "      <td>0.036789</td>\n",
       "      <td>0.032776</td>\n",
       "      <td>3202.550000</td>\n",
       "    </tr>\n",
       "    <tr>\n",
       "      <td>3</td>\n",
       "      <td>0.352164</td>\n",
       "      <td>0.181028</td>\n",
       "      <td>0.108864</td>\n",
       "      <td>0.083374</td>\n",
       "      <td>0.063942</td>\n",
       "      <td>0.055116</td>\n",
       "      <td>0.047372</td>\n",
       "      <td>0.041031</td>\n",
       "      <td>0.035365</td>\n",
       "      <td>0.031744</td>\n",
       "      <td>3228.972973</td>\n",
       "    </tr>\n",
       "  </tbody>\n",
       "</table>\n",
       "</div>"
      ],
      "text/plain": [
       "                       0         1         2         3         4         5  \\\n",
       "total_tweets_q                                                               \n",
       "0               0.320239  0.202902  0.124196  0.085277  0.065936  0.053058   \n",
       "1               0.295963  0.179198  0.122301  0.088963  0.071681  0.061176   \n",
       "2               0.320445  0.183452  0.123488  0.089843  0.069335  0.055415   \n",
       "3               0.352164  0.181028  0.108864  0.083374  0.063942  0.055116   \n",
       "\n",
       "                       6         7         8         9  total_tweets  \n",
       "total_tweets_q                                                        \n",
       "0               0.045218  0.038623  0.034167  0.030384    791.558442  \n",
       "1               0.051943  0.047278  0.042923  0.038573   2875.831169  \n",
       "2               0.047302  0.041155  0.036789  0.032776   3202.550000  \n",
       "3               0.047372  0.041031  0.035365  0.031744   3228.972973  "
      ]
     },
     "execution_count": 191,
     "metadata": {},
     "output_type": "execute_result"
    }
   ],
   "source": [
    "#len(top10_df[top10_df['total_tweets_q']==0])\n"
   ]
  },
  {
   "cell_type": "code",
   "execution_count": 7,
   "metadata": {},
   "outputs": [],
   "source": [
    "top10_df.reset_index().melt(id_vars=['index','total_tweets','total_tweets_q']).head()"
   ]
  },
  {
   "cell_type": "code",
   "execution_count": null,
   "metadata": {},
   "outputs": [],
   "source": [
    "alt.Chart(top10_df.reset_index().melt(id_vars=['index','total_tweets','total_tweets_q'])).mark_line().encode(\n",
    "    x='variable',\n",
    "    y='value',\n",
    "    color='index',\n",
    "    column=alt.Column('total_tweets_q:Q')\n",
    ")"
   ]
  },
  {
   "cell_type": "code",
   "execution_count": 3,
   "metadata": {
    "scrolled": true
   },
   "outputs": [],
   "source": [
    "alt.Chart(top10_df.reset_index().melt(id_vars=['index','total_tweets'])).mark_bar(\n",
    "opacity=0.7).encode(\n",
    "    x='variable',\n",
    "    y='value',\n",
    "    color=alt.Color('total_tweets:Q', scale=alt.Scale(scheme='rainbow')),\n",
    "    column=alt.Column('total_tweets:Q',  bin=True)\n",
    ")"
   ]
  },
  {
   "cell_type": "code",
   "execution_count": 6,
   "metadata": {},
   "outputs": [],
   "source": [
    "melted = top10_df.groupby('total_tweets_q').mean().drop(columns='total_tweets').reset_index().melt(id_vars=['total_tweets_q'])\n",
    "alt.Chart(melted).mark_line().encode(\n",
    "    x='variable',\n",
    "    y='value',\n",
    "    color='total_tweets_q'\n",
    ")"
   ]
  },
  {
   "cell_type": "code",
   "execution_count": null,
   "metadata": {},
   "outputs": [],
   "source": [
    "#"
   ]
  },
  {
   "cell_type": "code",
   "execution_count": null,
   "metadata": {},
   "outputs": [],
   "source": [
    "# con y sin unos\n",
    "# distribucion de outliers\n",
    "# clustering distribucion\n",
    "\n",
    "# outliers vs tabla\n",
    "# timesspan \n",
    "# clustering tabla or PCA\n",
    "\n",
    "\n",
    "\n",
    "# correlaciones\n",
    "# random -> palabras"
   ]
  }
 ],
 "metadata": {
  "kernelspec": {
   "display_name": "Python 3",
   "language": "python",
   "name": "python3"
  },
  "language_info": {
   "codemirror_mode": {
    "name": "ipython",
    "version": 3
   },
   "file_extension": ".py",
   "mimetype": "text/x-python",
   "name": "python",
   "nbconvert_exporter": "python",
   "pygments_lexer": "ipython3",
   "version": "3.7.4"
  }
 },
 "nbformat": 4,
 "nbformat_minor": 2
}
