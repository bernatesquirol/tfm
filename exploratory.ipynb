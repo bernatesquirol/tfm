{
 "cells": [
  {
   "cell_type": "code",
   "execution_count": 3,
   "metadata": {},
   "outputs": [],
   "source": [
    "import ipywidgets as widgets\n",
    "from ipywidgets import interact, interact_manual"
   ]
  },
  {
   "cell_type": "code",
   "execution_count": 4,
   "metadata": {},
   "outputs": [],
   "source": [
    "import utils\n",
    "import json\n",
    "import pandas as pd"
   ]
  },
  {
   "cell_type": "code",
   "execution_count": 36,
   "metadata": {},
   "outputs": [
    {
     "data": {
      "text/plain": [
       "<module 'utils' from 'C:\\\\Users\\\\berna\\\\datascience\\\\TFM\\\\code\\\\utils.py'>"
      ]
     },
     "execution_count": 36,
     "metadata": {},
     "output_type": "execute_result"
    }
   ],
   "source": [
    "import importlib\n",
    "importlib.reload(utils)"
   ]
  },
  {
   "cell_type": "code",
   "execution_count": 29,
   "metadata": {},
   "outputs": [],
   "source": [
    "import matplotlib as plt"
   ]
  },
  {
   "cell_type": "code",
   "execution_count": 6,
   "metadata": {},
   "outputs": [],
   "source": [
    "twitter_client = utils.TwitterClient()\n",
    "#twitter.get_application_rate_limit_status()\n",
    "\n"
   ]
  },
  {
   "cell_type": "code",
   "execution_count": 29,
   "metadata": {
    "scrolled": true
   },
   "outputs": [],
   "source": [
    "#congress_members = twitter_client.twitter.get_list_members(list_id=utils.LIST_ALL_CONGRESS,count=5000)\n",
    "all_congress_tl = {}\n",
    "for c in congress_members['users']:\n",
    "    all_congress_tl[c['screen_name']]=twitter_client.get_timeline_df(c['screen_name'])   \n",
    "    break\n",
    "    with open('../data/{}.json'.format(c['screen_name']), 'w') as json_file:\n",
    "        json.dump(all_congress_tl[c['screen_name']].to_dict(), json_file)"
   ]
  },
  {
   "cell_type": "code",
   "execution_count": 14,
   "metadata": {},
   "outputs": [],
   "source": [
    "# @Montsechavar -> no auth\n"
   ]
  },
  {
   "cell_type": "code",
   "execution_count": 7,
   "metadata": {},
   "outputs": [
    {
     "name": "stdout",
     "output_type": "stream",
     "text": [
      "aalmodobar.json ..\\data\\aalmodobar.json\n"
     ]
    }
   ],
   "source": [
    "import os\n",
    "all_congress_tl = {}\n",
    "for file in os.listdir(\"..\\data\"):\n",
    "    if file.endswith(\".json\"):\n",
    "        print(file, os.path.join(\"..\\data\", file))\n",
    "        key = file.split('.')[0]\n",
    "        with open(os.path.join(\"..\\data\", file),'r') as json_file:\n",
    "            all_congress_tl[key]=pd.DataFrame.from_dict(json.load(json_file))\n",
    "    break"
   ]
  },
  {
   "cell_type": "code",
   "execution_count": 31,
   "metadata": {},
   "outputs": [
    {
     "data": {
      "text/plain": [
       "dict_keys(['aalmodobar'])"
      ]
     },
     "execution_count": 31,
     "metadata": {},
     "output_type": "execute_result"
    }
   ],
   "source": [
    "all_congress_tl.keys()"
   ]
  },
  {
   "cell_type": "code",
   "execution_count": 27,
   "metadata": {},
   "outputs": [
    {
     "data": {
      "text/plain": [
       "True"
      ]
     },
     "execution_count": 27,
     "metadata": {},
     "output_type": "execute_result"
    }
   ],
   "source": [
    "'aalmodobar.json'.endswith('.json')"
   ]
  },
  {
   "cell_type": "code",
   "execution_count": 32,
   "metadata": {
    "scrolled": true
   },
   "outputs": [
    {
     "data": {
      "text/html": [
       "<div>\n",
       "<style scoped>\n",
       "    .dataframe tbody tr th:only-of-type {\n",
       "        vertical-align: middle;\n",
       "    }\n",
       "\n",
       "    .dataframe tbody tr th {\n",
       "        vertical-align: top;\n",
       "    }\n",
       "\n",
       "    .dataframe thead th {\n",
       "        text-align: right;\n",
       "    }\n",
       "</style>\n",
       "<table border=\"1\" class=\"dataframe\">\n",
       "  <thead>\n",
       "    <tr style=\"text-align: right;\">\n",
       "      <th></th>\n",
       "      <th>contributors</th>\n",
       "      <th>coordinates</th>\n",
       "      <th>created_at</th>\n",
       "      <th>display_text_range</th>\n",
       "      <th>entities</th>\n",
       "      <th>extended_entities</th>\n",
       "      <th>favorite_count</th>\n",
       "      <th>favorited</th>\n",
       "      <th>full_text</th>\n",
       "      <th>geo</th>\n",
       "      <th>...</th>\n",
       "      <th>quoted_status</th>\n",
       "      <th>quoted_status_id</th>\n",
       "      <th>quoted_status_id_str</th>\n",
       "      <th>quoted_status_permalink</th>\n",
       "      <th>retweet_count</th>\n",
       "      <th>retweeted</th>\n",
       "      <th>retweeted_status</th>\n",
       "      <th>source</th>\n",
       "      <th>truncated</th>\n",
       "      <th>user</th>\n",
       "    </tr>\n",
       "  </thead>\n",
       "  <tbody>\n",
       "    <tr>\n",
       "      <th>0</th>\n",
       "      <td>None</td>\n",
       "      <td>None</td>\n",
       "      <td>Sat Feb 01 18:11:26 +0000 2020</td>\n",
       "      <td>[0, 139]</td>\n",
       "      <td>{'hashtags': [{'text': 'costablanca', 'indices...</td>\n",
       "      <td>NaN</td>\n",
       "      <td>0</td>\n",
       "      <td>False</td>\n",
       "      <td>RT @DunesComodoro: Nuestros clientes ya están ...</td>\n",
       "      <td>None</td>\n",
       "      <td>...</td>\n",
       "      <td>NaN</td>\n",
       "      <td>NaN</td>\n",
       "      <td>NaN</td>\n",
       "      <td>NaN</td>\n",
       "      <td>2</td>\n",
       "      <td>False</td>\n",
       "      <td>{'created_at': 'Sat Feb 01 18:08:12 +0000 2020...</td>\n",
       "      <td>&lt;a href=\"http://twitter.com/download/iphone\" r...</td>\n",
       "      <td>False</td>\n",
       "      <td>{'id': 155350950, 'id_str': '155350950', 'name...</td>\n",
       "    </tr>\n",
       "    <tr>\n",
       "      <th>1</th>\n",
       "      <td>None</td>\n",
       "      <td>None</td>\n",
       "      <td>Fri Jan 31 22:16:37 +0000 2020</td>\n",
       "      <td>[0, 165]</td>\n",
       "      <td>{'hashtags': [{'text': 'ElMejorHotelDeBenidorm...</td>\n",
       "      <td>{'media': [{'id': 1223369407734472704, 'id_str...</td>\n",
       "      <td>2</td>\n",
       "      <td>False</td>\n",
       "      <td>Y 69 días después... todo listo para volver a ...</td>\n",
       "      <td>None</td>\n",
       "      <td>...</td>\n",
       "      <td>NaN</td>\n",
       "      <td>NaN</td>\n",
       "      <td>NaN</td>\n",
       "      <td>NaN</td>\n",
       "      <td>2</td>\n",
       "      <td>False</td>\n",
       "      <td>NaN</td>\n",
       "      <td>&lt;a href=\"http://twitter.com/download/iphone\" r...</td>\n",
       "      <td>False</td>\n",
       "      <td>{'id': 155350950, 'id_str': '155350950', 'name...</td>\n",
       "    </tr>\n",
       "    <tr>\n",
       "      <th>10</th>\n",
       "      <td>None</td>\n",
       "      <td>None</td>\n",
       "      <td>Fri Jan 31 10:04:02 +0000 2020</td>\n",
       "      <td>[0, 223]</td>\n",
       "      <td>{'hashtags': [{'text': 'SeguimosTrabajando', '...</td>\n",
       "      <td>NaN</td>\n",
       "      <td>2</td>\n",
       "      <td>False</td>\n",
       "      <td>@CarlosMazon40: “Con el asunto del agua estamo...</td>\n",
       "      <td>None</td>\n",
       "      <td>...</td>\n",
       "      <td>NaN</td>\n",
       "      <td>NaN</td>\n",
       "      <td>NaN</td>\n",
       "      <td>NaN</td>\n",
       "      <td>3</td>\n",
       "      <td>False</td>\n",
       "      <td>NaN</td>\n",
       "      <td>&lt;a href=\"http://twitter.com/download/iphone\" r...</td>\n",
       "      <td>False</td>\n",
       "      <td>{'id': 155350950, 'id_str': '155350950', 'name...</td>\n",
       "    </tr>\n",
       "    <tr>\n",
       "      <th>100</th>\n",
       "      <td>None</td>\n",
       "      <td>None</td>\n",
       "      <td>Wed Jan 22 07:34:31 +0000 2020</td>\n",
       "      <td>[0, 221]</td>\n",
       "      <td>{'hashtags': [], 'symbols': [], 'user_mentions...</td>\n",
       "      <td>NaN</td>\n",
       "      <td>0</td>\n",
       "      <td>False</td>\n",
       "      <td>Por ello ayer sin perder un minuto registramos...</td>\n",
       "      <td>None</td>\n",
       "      <td>...</td>\n",
       "      <td>NaN</td>\n",
       "      <td>NaN</td>\n",
       "      <td>NaN</td>\n",
       "      <td>NaN</td>\n",
       "      <td>1</td>\n",
       "      <td>False</td>\n",
       "      <td>NaN</td>\n",
       "      <td>&lt;a href=\"http://twitter.com/download/iphone\" r...</td>\n",
       "      <td>False</td>\n",
       "      <td>{'id': 155350950, 'id_str': '155350950', 'name...</td>\n",
       "    </tr>\n",
       "    <tr>\n",
       "      <th>1000</th>\n",
       "      <td>None</td>\n",
       "      <td>None</td>\n",
       "      <td>Mon Oct 14 20:58:44 +0000 2019</td>\n",
       "      <td>[0, 140]</td>\n",
       "      <td>{'hashtags': [], 'symbols': [], 'user_mentions...</td>\n",
       "      <td>NaN</td>\n",
       "      <td>0</td>\n",
       "      <td>False</td>\n",
       "      <td>RT @populares: Las instituciones funcionan, no...</td>\n",
       "      <td>None</td>\n",
       "      <td>...</td>\n",
       "      <td>NaN</td>\n",
       "      <td>NaN</td>\n",
       "      <td>NaN</td>\n",
       "      <td>NaN</td>\n",
       "      <td>251</td>\n",
       "      <td>False</td>\n",
       "      <td>{'created_at': 'Mon Oct 14 20:32:31 +0000 2019...</td>\n",
       "      <td>&lt;a href=\"http://twitter.com/download/iphone\" r...</td>\n",
       "      <td>False</td>\n",
       "      <td>{'id': 155350950, 'id_str': '155350950', 'name...</td>\n",
       "    </tr>\n",
       "  </tbody>\n",
       "</table>\n",
       "<p>5 rows × 31 columns</p>\n",
       "</div>"
      ],
      "text/plain": [
       "     contributors coordinates                      created_at  \\\n",
       "0            None        None  Sat Feb 01 18:11:26 +0000 2020   \n",
       "1            None        None  Fri Jan 31 22:16:37 +0000 2020   \n",
       "10           None        None  Fri Jan 31 10:04:02 +0000 2020   \n",
       "100          None        None  Wed Jan 22 07:34:31 +0000 2020   \n",
       "1000         None        None  Mon Oct 14 20:58:44 +0000 2019   \n",
       "\n",
       "     display_text_range                                           entities  \\\n",
       "0              [0, 139]  {'hashtags': [{'text': 'costablanca', 'indices...   \n",
       "1              [0, 165]  {'hashtags': [{'text': 'ElMejorHotelDeBenidorm...   \n",
       "10             [0, 223]  {'hashtags': [{'text': 'SeguimosTrabajando', '...   \n",
       "100            [0, 221]  {'hashtags': [], 'symbols': [], 'user_mentions...   \n",
       "1000           [0, 140]  {'hashtags': [], 'symbols': [], 'user_mentions...   \n",
       "\n",
       "                                      extended_entities  favorite_count  \\\n",
       "0                                                   NaN               0   \n",
       "1     {'media': [{'id': 1223369407734472704, 'id_str...               2   \n",
       "10                                                  NaN               2   \n",
       "100                                                 NaN               0   \n",
       "1000                                                NaN               0   \n",
       "\n",
       "      favorited                                          full_text   geo  ...  \\\n",
       "0         False  RT @DunesComodoro: Nuestros clientes ya están ...  None  ...   \n",
       "1         False  Y 69 días después... todo listo para volver a ...  None  ...   \n",
       "10        False  @CarlosMazon40: “Con el asunto del agua estamo...  None  ...   \n",
       "100       False  Por ello ayer sin perder un minuto registramos...  None  ...   \n",
       "1000      False  RT @populares: Las instituciones funcionan, no...  None  ...   \n",
       "\n",
       "      quoted_status quoted_status_id quoted_status_id_str  \\\n",
       "0               NaN              NaN                  NaN   \n",
       "1               NaN              NaN                  NaN   \n",
       "10              NaN              NaN                  NaN   \n",
       "100             NaN              NaN                  NaN   \n",
       "1000            NaN              NaN                  NaN   \n",
       "\n",
       "      quoted_status_permalink retweet_count  retweeted  \\\n",
       "0                         NaN             2      False   \n",
       "1                         NaN             2      False   \n",
       "10                        NaN             3      False   \n",
       "100                       NaN             1      False   \n",
       "1000                      NaN           251      False   \n",
       "\n",
       "                                       retweeted_status  \\\n",
       "0     {'created_at': 'Sat Feb 01 18:08:12 +0000 2020...   \n",
       "1                                                   NaN   \n",
       "10                                                  NaN   \n",
       "100                                                 NaN   \n",
       "1000  {'created_at': 'Mon Oct 14 20:32:31 +0000 2019...   \n",
       "\n",
       "                                                 source truncated  \\\n",
       "0     <a href=\"http://twitter.com/download/iphone\" r...     False   \n",
       "1     <a href=\"http://twitter.com/download/iphone\" r...     False   \n",
       "10    <a href=\"http://twitter.com/download/iphone\" r...     False   \n",
       "100   <a href=\"http://twitter.com/download/iphone\" r...     False   \n",
       "1000  <a href=\"http://twitter.com/download/iphone\" r...     False   \n",
       "\n",
       "                                                   user  \n",
       "0     {'id': 155350950, 'id_str': '155350950', 'name...  \n",
       "1     {'id': 155350950, 'id_str': '155350950', 'name...  \n",
       "10    {'id': 155350950, 'id_str': '155350950', 'name...  \n",
       "100   {'id': 155350950, 'id_str': '155350950', 'name...  \n",
       "1000  {'id': 155350950, 'id_str': '155350950', 'name...  \n",
       "\n",
       "[5 rows x 31 columns]"
      ]
     },
     "execution_count": 32,
     "metadata": {},
     "output_type": "execute_result"
    }
   ],
   "source": [
    "all_congress_tl['aalmodobar'].head()"
   ]
  },
  {
   "cell_type": "code",
   "execution_count": 15,
   "metadata": {},
   "outputs": [
    {
     "data": {
      "text/plain": [
       "dict_keys(['id', 'id_str', 'name', 'screen_name', 'location', 'description', 'url', 'entities', 'protected', 'followers_count', 'friends_count', 'listed_count', 'created_at', 'favourites_count', 'utc_offset', 'time_zone', 'geo_enabled', 'verified', 'statuses_count', 'lang', 'contributors_enabled', 'is_translator', 'is_translation_enabled', 'profile_background_color', 'profile_background_image_url', 'profile_background_image_url_https', 'profile_background_tile', 'profile_image_url', 'profile_image_url_https', 'profile_banner_url', 'profile_link_color', 'profile_sidebar_border_color', 'profile_sidebar_fill_color', 'profile_text_color', 'profile_use_background_image', 'has_extended_profile', 'default_profile', 'default_profile_image', 'can_media_tag', 'followed_by', 'following', 'follow_request_sent', 'notifications', 'translator_type'])"
      ]
     },
     "execution_count": 15,
     "metadata": {},
     "output_type": "execute_result"
    }
   ],
   "source": [
    "rt_quoted = utils.get_retweet_and_quoted(all_congress_tl['aalmodobar'])[0]\n",
    "rt_quoted['user']['screen_name'].keys()"
   ]
  },
  {
   "cell_type": "code",
   "execution_count": 32,
   "metadata": {},
   "outputs": [
    {
     "data": {
      "text/plain": [
       "1"
      ]
     },
     "execution_count": 32,
     "metadata": {},
     "output_type": "execute_result"
    }
   ],
   "source": [
    "len(all_congress_tl)"
   ]
  },
  {
   "cell_type": "code",
   "execution_count": 40,
   "metadata": {},
   "outputs": [],
   "source": [
    "rt_quoted = utils.get_retweet_and_quoted_count(all_congress_tl['aalmodobar'])#.values"
   ]
  },
  {
   "cell_type": "code",
   "execution_count": 41,
   "metadata": {},
   "outputs": [
    {
     "data": {
      "text/plain": [
       "32.1283053847815"
      ]
     },
     "execution_count": 41,
     "metadata": {},
     "output_type": "execute_result"
    }
   ],
   "source": [
    "utils.outlayer_num(rt_quoted)"
   ]
  },
  {
   "cell_type": "code",
   "execution_count": 1,
   "metadata": {},
   "outputs": [],
   "source": [
    "#utils.get_retweet_and_quoted_count(all_congress_tl['aalmodobar'])"
   ]
  },
  {
   "cell_type": "code",
   "execution_count": 36,
   "metadata": {},
   "outputs": [],
   "source": [
    "list_journalists = twitter_client.twitter.get_list_members(list_id=222922574,count=5000)"
   ]
  },
  {
   "cell_type": "code",
   "execution_count": 39,
   "metadata": {},
   "outputs": [],
   "source": [
    "#list_journalists"
   ]
  },
  {
   "cell_type": "code",
   "execution_count": 1,
   "metadata": {},
   "outputs": [],
   "source": [
    "#list(map(lambda x: x['screen_name'],list_journalists['users']))+['iescolar','jordievole','_anapastor_','MonicaCarrillo','cristina_pardo']"
   ]
  },
  {
   "cell_type": "code",
   "execution_count": 2,
   "metadata": {},
   "outputs": [],
   "source": [
    "#journalists = ['ErnestoEkaizer','ManuSanchezG','anabeldn','maria_carou','MsolHernandez','Luis_Angel_Sanz','ConchaCLC','marquesperales','lodiesan','carmenmorodo','Lacarreter','estherpalomera','maria_rey','MAYANTOXO','danielayllon','patiarce','KikoRosique','lcaldito','sonsolesonega','jl_sastre','PauladeLasHeras','javiercasqueiro','Fgarea','FernandoHValls','JuanmaRomero','ikaitor','basteiro','iescolar','jordievole','_anapastor_','MonicaCarrillo','cristina_pardo','ElenaValenciano']"
   ]
  }
 ],
 "metadata": {
  "kernelspec": {
   "display_name": "Python 3",
   "language": "python",
   "name": "python3"
  },
  "language_info": {
   "codemirror_mode": {
    "name": "ipython",
    "version": 3
   },
   "file_extension": ".py",
   "mimetype": "text/x-python",
   "name": "python",
   "nbconvert_exporter": "python",
   "pygments_lexer": "ipython3",
   "version": "3.7.3"
  }
 },
 "nbformat": 4,
 "nbformat_minor": 4
}
